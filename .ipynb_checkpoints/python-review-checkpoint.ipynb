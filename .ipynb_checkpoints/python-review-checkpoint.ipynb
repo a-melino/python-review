{
 "cells": [
  {
   "cell_type": "markdown",
   "id": "ee73df66-5d8a-43cd-89d1-7a087c789f3a",
   "metadata": {},
   "source": [
    "# Python Review"
   ]
  },
  {
   "cell_type": "code",
   "execution_count": 59,
   "id": "799fed6f-5586-45ae-9655-fcfe4d380a54",
   "metadata": {},
   "outputs": [
    {
     "name": "stdout",
     "output_type": "stream",
     "text": [
      "[0, 1, 2, 3, 4, 5, 6, 7, 8, 9]\n",
      "[9, 9, 1, 8, 6, 5, 0, 0, 0, 5]\n",
      "The number is: 8\n",
      "{'Alex': 'Rebel', 'Amar': 'Gandalf', 'Andy': 'Shadow', 'Emily': 'Onion', 'Ethan': 'Legand', 'Felipe': 'Fox', 'Harshita': 'Obiwan', 'Haihua': 'Juno', 'Hazel': 'Tiger', 'Ivan': 'Dreamer', 'Jahed': 'Python', 'Kala': 'Paladin', 'Maximus': 'Phoenix', 'Mingyang': 'Cosmos', 'Obi': 'Siren', 'Onyepunuka': 'Star Lord', 'Parastoo': 'Super Nova', 'Ramees': 'Spicy', 'Ramzi': 'Auroa', 'Saleha': 'Thor', 'Samuel': 'Dragon lady', 'Scott': 'Sky walker', 'Shweta': 'Viper', 'Sophie': 'Ice Queen', 'Nariman': 'Quantum', 'Tibor': 'wolf', 'Yujie': 'Jumper', 'Vishnu': 'Voyager', 'John': 'Dark Lord', 'Salman': 'Maverick', 'Kyla': 'Tomato', 'Huan': 'Magician'}\n"
     ]
    }
   ],
   "source": [
    "# create a function, generate_num_list(n), returns a list of 'n' numbers (I included a random number list generator)\n",
    "\n",
    "def generate_num_list(n):\n",
    "    num = list(range(0,n))\n",
    "    return num\n",
    "\n",
    "num_list = generate_num_list(10)\n",
    "print(num_list)\n",
    "\n",
    "\n",
    "import random\n",
    "\n",
    "def generate_num_list_random(n):\n",
    "    number_list = []\n",
    "    for i in range(n):\n",
    "        number_list.append(random.randint(0,9))\n",
    "    return number_list\n",
    "\n",
    "random_num_list = generate_num_list_random(10)\n",
    "print(random_num_list)\n",
    "\n",
    "\n",
    "# create a function, print_number(num_list, n) output should be something like \"the number is \"\n",
    "\n",
    "def print_number(numlist, n):\n",
    "    if n<= len(numlist):\n",
    "        print(f\"The number is: {numlist[n-1]}\")\n",
    "    else:\n",
    "        print(f\"Error.\")\n",
    "\n",
    "number = print_number(random_num_list, 4)\n",
    "\n",
    "\n",
    "# create a function, produce_codename_dict(names, codenames), should return a dict with names as keys and codenames as values randomly (import random needed)\n",
    "\n",
    "space_pirates = ['Alex', 'Amar', 'Andy', 'Emily', 'Ethan', 'Felipe', 'Harshita', 'Haihua', \n",
    "                 'Hazel', 'Ivan', 'Jahed', 'Kala', 'Maximus', 'Mingyang', 'Obi', 'Onyepunuka', \n",
    "                 'Parastoo', 'Ramees', 'Ramzi', 'Saleha', 'Samuel', 'Scott', 'Shweta', 'Sophie', \n",
    "                 'Nariman', 'Tibor', 'Yujie', 'Vishnu', 'John', 'Salman', 'Kyla', 'Huan']\n",
    "\n",
    "\n",
    "\n",
    "code_names = ['Dark Lord', 'Ice Queen', 'Star Lord', 'Viper', 'Phoenix', 'Shadow', 'Thor', \n",
    "              'Obiwan', 'Sky walker', 'Dreamer', 'Quantum', 'Voyager', 'Paladin', 'Juno', \n",
    "              'Super Nova', 'Siren', 'Auroa', 'Fox', 'wolf', 'Tiger', 'Tomato', 'Onion', 'Spicy', \n",
    "              'Python', 'Rebel', 'Cosmos', 'Gandalf', 'Jumper', 'Maverick', 'Magician', 'Dragon lady', 'Legand']\n",
    "\n",
    "def produce_codename_dict(names, code_names):\n",
    "    code_names_placeholder = code_names\n",
    "    pirate_names = {}\n",
    "    for name in names:\n",
    "        code_name = random.choice(code_names_placeholder)\n",
    "        pirate_names[name] = code_name\n",
    "        code_names_placeholder.remove(code_name)\n",
    "        \n",
    "    return pirate_names\n",
    "\n",
    "print(produce_codename_dict(space_pirates, code_names))\n",
    "\n",
    "\n"
   ]
  },
  {
   "cell_type": "code",
   "execution_count": 5,
   "id": "b025631d-dbb2-40e7-8a55-3512f1fbe6aa",
   "metadata": {},
   "outputs": [
    {
     "name": "stdout",
     "output_type": "stream",
     "text": [
      "Let's Play Rock Paper Scissors!\n"
     ]
    },
    {
     "name": "stdin",
     "output_type": "stream",
     "text": [
      "prease enter 'r' for 'rock', 'p' for 'paper', 's' for 'scissors' r\n"
     ]
    },
    {
     "name": "stdout",
     "output_type": "stream",
     "text": [
      "your choice is rock; computer's choice is paper\n",
      "computer wins\n"
     ]
    },
    {
     "name": "stdin",
     "output_type": "stream",
     "text": [
      "prease enter 'c' for 'continue', 'f' for 'finish' c\n",
      "prease enter 'r' for 'rock', 'p' for 'paper', 's' for 'scissors' s\n"
     ]
    },
    {
     "name": "stdout",
     "output_type": "stream",
     "text": [
      "your choice is scissors; computer's choice is rock\n",
      "computer wins\n"
     ]
    },
    {
     "name": "stdin",
     "output_type": "stream",
     "text": [
      "prease enter 'c' for 'continue', 'f' for 'finish' f\n"
     ]
    }
   ],
   "source": [
    "# Rock Paper Scissors Game\n",
    "\n",
    "# Incorporate the random library\n",
    "import random\n",
    "\n",
    "# Print Title\n",
    "print(\"Let's Play Rock Paper Scissors!\")\n",
    "\n",
    "# Specify the three options\n",
    "options = [\"r\", \"p\", \"s\"]\n",
    "\n",
    "\n",
    "def who_wins(you, computer):\n",
    "    if you == computer:\n",
    "        print(\"It's a tie!\")\n",
    "    elif (you == 'r' and computer == 'p') or (you == 'p' and computer == 's') or (you == 's' and computer == 'r'):\n",
    "        print(\"You Lose!\")\n",
    "    elif (you == 'r' and computer == 's') or (you == 'p' and computer == 'r') or (you == 's' and computer == 'p'):\n",
    "        print(\"You Win!\")\n",
    "    else :\n",
    "        print(\"Invalid user selection.\")\n",
    "\n",
    "while True:\n",
    "    user_choice = input(\"Make your Choice: (r)ock, (p)aper, (s)cissors? \")\n",
    "    computer_choice = random.choice(options)\n",
    "    print(f\"Computer selects {computer_choice}\")\n",
    "    who_wins(user_choice, computer_choice)\n",
    "    user_input = input(\"Type 'c' to play again, or 'f' to finish.\")\n",
    "    if user_input == 'f':\n",
    "        break\n",
    "    elif user_input != 'f' and user_input != 'c':\n",
    "            print(\"Invalid selection.\")\n",
    "\n",
    "\n",
    "\n",
    "# game can also be made without using conditional statements (if's), can use a dict as below:\n",
    "\n",
    "\"\"\"\n",
    "def who_win(you, computer):\n",
    "    # A dict containing the result for each combination\n",
    "    print(f\"your choice is {you};\" + f\" computer's choice is {computer}\")\n",
    "    \n",
    "    #tuple\n",
    "    rps_dict = {('rock', 'rock'): \"It's a draw\",\n",
    "                ('rock', 'paper'): \"computer wins\",\n",
    "                ('rock', 'scissors'): \"you win\",\n",
    "                ('paper', 'paper'): \"It's a draw\",\n",
    "                ('paper', 'rock'): \"you win\",\n",
    "                ('paper', 'scissors'): \"computer wins\",\n",
    "                ('scissors', 'scissors'): \"It's a draw\",\n",
    "                ('scissors', 'rock'): \"computer wins\",\n",
    "                ('scissors', 'paper'): \"you win\"}\n",
    "\n",
    "    return rps_dict[(you, computer)]\n",
    "\n",
    "input_map = {\"r\":\"rock\", \"p\":\"paper\", \"s\":\"scissors\"}\n",
    "# print(input_map.values())\n",
    "\n",
    "while True:\n",
    "    user_input = input(\"prease enter 'r' for 'rock', 'p' for 'paper', 's' for 'scissors'\")\n",
    "    computer_choice = random.choice(list(input_map.values()))\n",
    "    print(who_win(input_map[user_input],computer_choice))\n",
    "    user_input = input(\"prease enter 'c' for 'continue', 'f' for 'finish'\")\n",
    "    if user_input == 'f':\n",
    "        break\n",
    "\"\"\"\n"
   ]
  },
  {
   "cell_type": "code",
   "execution_count": null,
   "id": "8b1f1bfe-f354-40be-a459-ddbc57f683f0",
   "metadata": {},
   "outputs": [],
   "source": []
  }
 ],
 "metadata": {
  "kernelspec": {
   "display_name": "Python 3 (ipykernel)",
   "language": "python",
   "name": "python3"
  },
  "language_info": {
   "codemirror_mode": {
    "name": "ipython",
    "version": 3
   },
   "file_extension": ".py",
   "mimetype": "text/x-python",
   "name": "python",
   "nbconvert_exporter": "python",
   "pygments_lexer": "ipython3",
   "version": "3.10.9"
  }
 },
 "nbformat": 4,
 "nbformat_minor": 5
}
